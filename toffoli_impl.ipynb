{
 "cells": [
  {
   "cell_type": "code",
   "execution_count": 1,
   "id": "8e868211",
   "metadata": {},
   "outputs": [],
   "source": [
    "import numpy as np\n",
    "from qiskit import QuantumCircuit\n",
    "from qiskit.quantum_info import Statevector"
   ]
  },
  {
   "cell_type": "code",
   "execution_count": 2,
   "id": "abc48206",
   "metadata": {},
   "outputs": [],
   "source": [
    "def print_statevector(state, step, gate_info=\"\"):\n",
    "    \"\"\"Helper function to print the state vector in a readable format.\"\"\"\n",
    "    print(f\"--- Step {step}: {gate_info} ---\")\n",
    "    \n",
    "    # Qiskit's bit ordering is q2, q1, q0. So the label '110' corresponds to |110>.\n",
    "    for i in range(len(state.data)):\n",
    "        # Get the binary representation for the label\n",
    "        label = format(i, '03b')\n",
    "        amplitude = state.data[i]\n",
    "        \n",
    "        # Only print non-zero amplitudes to keep it clean\n",
    "        if not np.isclose(amplitude, 0):\n",
    "            # Format the complex number for nice printing\n",
    "            real_part = np.real(amplitude)\n",
    "            imag_part = np.imag(amplitude)\n",
    "            print(f\"  |{label}>: {real_part:+.3f} {imag_part:+.3f}j\")\n",
    "    print(\"-\" * 30 + \"\\n\")"
   ]
  },
  {
   "cell_type": "code",
   "execution_count": 3,
   "id": "be1b3190",
   "metadata": {},
   "outputs": [],
   "source": [
    "gate_sequence = [\n",
    "    ('h', 2),\n",
    "    ('cx', 1, 2),\n",
    "    ('tdg', 2),\n",
    "    ('cx', 0, 2),\n",
    "    ('t', 2),\n",
    "    ('cx', 1, 2),\n",
    "    ('tdg', 2),\n",
    "    ('cx', 0, 2),\n",
    "    ('t', 2),\n",
    "    ('h', 2),\n",
    "    ('tdg', 1),\n",
    "    ('cx', 0, 1),\n",
    "    ('tdg', 1),\n",
    "    ('cx', 0, 1),\n",
    "    ('s', 1),\n",
    "    ('t', 0)\n",
    "]"
   ]
  },
  {
   "cell_type": "code",
   "execution_count": 4,
   "id": "cb292e93",
   "metadata": {},
   "outputs": [
    {
     "name": "stdout",
     "output_type": "stream",
     "text": [
      "--- Step 0: Initial State |110> ---\n",
      "  |110>: +1.000 +0.000j\n",
      "------------------------------\n",
      "\n"
     ]
    }
   ],
   "source": [
    "initial_sv = Statevector.from_label('110')\n",
    "current_sv = initial_sv.copy()\n",
    "\n",
    "# Print the initial state\n",
    "print_statevector(current_sv, 0, \"Initial State |110>\")"
   ]
  },
  {
   "cell_type": "code",
   "execution_count": null,
   "id": "89765be9",
   "metadata": {},
   "outputs": [
    {
     "name": "stdout",
     "output_type": "stream",
     "text": [
      "--- Step 1: Applying 'H' to qubit(s) (2,) ---\n",
      "  |010>: +0.707 +0.000j\n",
      "  |110>: -0.707 +0.000j\n",
      "------------------------------\n",
      "\n",
      "--- Step 2: Applying 'CX' to qubit(s) (1, 2) ---\n",
      "  |010>: -0.707 +0.000j\n",
      "  |110>: +0.707 +0.000j\n",
      "------------------------------\n",
      "\n",
      "--- Step 3: Applying 'TDG' to qubit(s) (2,) ---\n",
      "  |010>: -0.707 +0.000j\n",
      "  |110>: +0.500 -0.500j\n",
      "------------------------------\n",
      "\n",
      "--- Step 4: Applying 'CX' to qubit(s) (0, 2) ---\n",
      "  |010>: -0.707 +0.000j\n",
      "  |110>: +0.500 -0.500j\n",
      "------------------------------\n",
      "\n",
      "--- Step 5: Applying 'T' to qubit(s) (2,) ---\n",
      "  |010>: -0.707 +0.000j\n",
      "  |110>: +0.707 +0.000j\n",
      "------------------------------\n",
      "\n",
      "--- Step 6: Applying 'CX' to qubit(s) (1, 2) ---\n",
      "  |010>: +0.707 +0.000j\n",
      "  |110>: -0.707 +0.000j\n",
      "------------------------------\n",
      "\n",
      "--- Step 7: Applying 'TDG' to qubit(s) (2,) ---\n",
      "  |010>: +0.707 +0.000j\n",
      "  |110>: -0.500 +0.500j\n",
      "------------------------------\n",
      "\n",
      "--- Step 8: Applying 'CX' to qubit(s) (0, 2) ---\n",
      "  |010>: +0.707 +0.000j\n",
      "  |110>: -0.500 +0.500j\n",
      "------------------------------\n",
      "\n",
      "--- Step 9: Applying 'T' to qubit(s) (2,) ---\n",
      "  |010>: +0.707 +0.000j\n",
      "  |110>: -0.707 +0.000j\n",
      "------------------------------\n",
      "\n",
      "--- Step 10: Applying 'H' to qubit(s) (2,) ---\n",
      "  |110>: +1.000 +0.000j\n",
      "------------------------------\n",
      "\n",
      "--- Step 11: Applying 'TDG' to qubit(s) (1,) ---\n",
      "  |110>: +0.707 -0.707j\n",
      "------------------------------\n",
      "\n",
      "--- Step 12: Applying 'CX' to qubit(s) (0, 1) ---\n",
      "  |110>: +0.707 -0.707j\n",
      "------------------------------\n",
      "\n",
      "--- Step 13: Applying 'TDG' to qubit(s) (1,) ---\n",
      "  |110>: +0.000 -1.000j\n",
      "------------------------------\n",
      "\n",
      "--- Step 14: Applying 'CX' to qubit(s) (0, 1) ---\n",
      "  |110>: +0.000 -1.000j\n",
      "------------------------------\n",
      "\n",
      "--- Step 15: Applying 'S' to qubit(s) (1,) ---\n",
      "  |110>: +1.000 +0.000j\n",
      "------------------------------\n",
      "\n",
      "--- Step 16: Applying 'T' to qubit(s) (0,) ---\n",
      "  |110>: +1.000 +0.000j\n",
      "------------------------------\n",
      "\n"
     ]
    }
   ],
   "source": [
    "for i, gate_def in enumerate(gate_sequence):\n",
    "    step_num = i + 1\n",
    "    gate_name = gate_def[0]\n",
    "    qubits = gate_def[1:]\n",
    "    \n",
    "    temp_circuit = QuantumCircuit(3)\n",
    "    \n",
    "    # Use getattr to call the correct gate method on the circuit object\n",
    "    # e.g., getattr(temp_circuit, 'h')(2) is the same as temp_circuit.h(2)\n",
    "    getattr(temp_circuit, gate_name)(*qubits)\n",
    "    \n",
    "    current_sv = current_sv.evolve(temp_circuit)\n",
    "    \n",
    "    gate_info_str = f\"Applying '{gate_name.upper()}' to qubit(s) {qubits}\"\n",
    "    print_statevector(current_sv, step_num, gate_info_str)"
   ]
  },
  {
   "cell_type": "code",
   "execution_count": 6,
   "id": "b407c171",
   "metadata": {},
   "outputs": [
    {
     "name": "stdout",
     "output_type": "stream",
     "text": [
      "--- Final Result ---\n",
      "expected final state |111>.\n",
      "final state acheived:\n",
      "--- Step Final: CCX(|110>) ---\n",
      "  |110>: +1.000 +0.000j\n",
      "------------------------------\n",
      "\n",
      "Statevector([0.00000000e+00+0.j, 0.00000000e+00+0.j, 6.22328532e-19+0.j,\n",
      "             0.00000000e+00+0.j, 0.00000000e+00+0.j, 0.00000000e+00+0.j,\n",
      "             1.00000000e+00+0.j, 0.00000000e+00+0.j],\n",
      "            dims=(2, 2, 2))\n"
     ]
    }
   ],
   "source": [
    "print(\"--- Final Result ---\")\n",
    "print(\"expected final state |111>.\")\n",
    "print(\"final state acheived:\")\n",
    "\n",
    "print_statevector(current_sv, \"Final\", \"CCX(|110>)\")\n",
    "current_sv"
   ]
  }
 ],
 "metadata": {
  "kernelspec": {
   "display_name": "dev",
   "language": "python",
   "name": "python3"
  },
  "language_info": {
   "codemirror_mode": {
    "name": "ipython",
    "version": 3
   },
   "file_extension": ".py",
   "mimetype": "text/x-python",
   "name": "python",
   "nbconvert_exporter": "python",
   "pygments_lexer": "ipython3",
   "version": "3.13.7"
  }
 },
 "nbformat": 4,
 "nbformat_minor": 5
}
