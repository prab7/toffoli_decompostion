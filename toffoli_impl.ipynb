{
 "cells": [
  {
   "cell_type": "code",
   "execution_count": 27,
   "id": "8e868211",
   "metadata": {},
   "outputs": [],
   "source": [
    "import numpy as np\n",
    "from qiskit import QuantumCircuit\n",
    "from qiskit.quantum_info import Statevector"
   ]
  },
  {
   "cell_type": "code",
   "execution_count": 28,
   "id": "abc48206",
   "metadata": {},
   "outputs": [],
   "source": [
    "def print_statevector(state, step, gate_info=\"\"):\n",
    "    \"\"\"Helper function to print the state vector in a readable format.\"\"\"\n",
    "    print(f\"--- Step {step}: {gate_info} ---\")\n",
    "    \n",
    "    # Qiskit's bit ordering is q2, q1, q0. So the label '110' corresponds to |110>.\n",
    "    for i in range(len(state.data)):\n",
    "        # Get the binary representation for the label\n",
    "        label = format(i, '03b')\n",
    "        amplitude = state.data[i]\n",
    "        \n",
    "        # Only print non-zero amplitudes to keep it clean\n",
    "        if not np.isclose(amplitude, 0):\n",
    "            # Format the complex number for nice printing\n",
    "            real_part = np.real(amplitude)\n",
    "            imag_part = np.imag(amplitude)\n",
    "            print(f\"  |{label}>: {real_part:+.3f} {imag_part:+.3f}j\")\n",
    "    print(\"-\" * 30 + \"\\n\")"
   ]
  },
  {
   "cell_type": "code",
   "execution_count": null,
   "id": "be1b3190",
   "metadata": {},
   "outputs": [
    {
     "ename": "TypeError",
     "evalue": "'tuple' object is not callable",
     "output_type": "error",
     "traceback": [
      "\u001b[31m---------------------------------------------------------------------------\u001b[39m",
      "\u001b[31mTypeError\u001b[39m                                 Traceback (most recent call last)",
      "\u001b[36mCell\u001b[39m\u001b[36m \u001b[39m\u001b[32mIn[43]\u001b[39m\u001b[32m, line 16\u001b[39m\n\u001b[32m      1\u001b[39m gate_sequence = [\n\u001b[32m      2\u001b[39m     (\u001b[33m'\u001b[39m\u001b[33mh\u001b[39m\u001b[33m'\u001b[39m, \u001b[32m2\u001b[39m),\n\u001b[32m      3\u001b[39m     (\u001b[33m'\u001b[39m\u001b[33mcx\u001b[39m\u001b[33m'\u001b[39m, \u001b[32m1\u001b[39m, \u001b[32m2\u001b[39m),\n\u001b[32m      4\u001b[39m     (\u001b[33m'\u001b[39m\u001b[33mtdg\u001b[39m\u001b[33m'\u001b[39m, \u001b[32m2\u001b[39m),\n\u001b[32m      5\u001b[39m     (\u001b[33m'\u001b[39m\u001b[33mcx\u001b[39m\u001b[33m'\u001b[39m, \u001b[32m0\u001b[39m, \u001b[32m2\u001b[39m),\n\u001b[32m      6\u001b[39m     (\u001b[33m'\u001b[39m\u001b[33mt\u001b[39m\u001b[33m'\u001b[39m, \u001b[32m2\u001b[39m),\n\u001b[32m      7\u001b[39m     (\u001b[33m'\u001b[39m\u001b[33mcx\u001b[39m\u001b[33m'\u001b[39m, \u001b[32m1\u001b[39m, \u001b[32m2\u001b[39m),\n\u001b[32m      8\u001b[39m     (\u001b[33m'\u001b[39m\u001b[33mtdg\u001b[39m\u001b[33m'\u001b[39m, \u001b[32m2\u001b[39m),\n\u001b[32m      9\u001b[39m     (\u001b[33m'\u001b[39m\u001b[33mcx\u001b[39m\u001b[33m'\u001b[39m, \u001b[32m0\u001b[39m, \u001b[32m2\u001b[39m),\n\u001b[32m     10\u001b[39m     (\u001b[33m'\u001b[39m\u001b[33mt\u001b[39m\u001b[33m'\u001b[39m, \u001b[32m2\u001b[39m),\n\u001b[32m     11\u001b[39m     (\u001b[33m'\u001b[39m\u001b[33mh\u001b[39m\u001b[33m'\u001b[39m, \u001b[32m2\u001b[39m),\n\u001b[32m     12\u001b[39m     (\u001b[33m'\u001b[39m\u001b[33mtdg\u001b[39m\u001b[33m'\u001b[39m, \u001b[32m1\u001b[39m),\n\u001b[32m     13\u001b[39m     (\u001b[33m'\u001b[39m\u001b[33mcx\u001b[39m\u001b[33m'\u001b[39m, \u001b[32m0\u001b[39m, \u001b[32m1\u001b[39m),\n\u001b[32m     14\u001b[39m     (\u001b[33m'\u001b[39m\u001b[33mtdg\u001b[39m\u001b[33m'\u001b[39m, \u001b[32m1\u001b[39m),\n\u001b[32m     15\u001b[39m     (\u001b[33m'\u001b[39m\u001b[33mcx\u001b[39m\u001b[33m'\u001b[39m, \u001b[32m0\u001b[39m, \u001b[32m1\u001b[39m),\n\u001b[32m---> \u001b[39m\u001b[32m16\u001b[39m     \u001b[43m(\u001b[49m\u001b[33;43m'\u001b[39;49m\u001b[33;43ms\u001b[39;49m\u001b[33;43m'\u001b[39;49m\u001b[43m,\u001b[49m\u001b[43m \u001b[49m\u001b[32;43m1\u001b[39;49m\u001b[43m)\u001b[49m\n\u001b[32m     17\u001b[39m \u001b[43m    \u001b[49m\u001b[43m(\u001b[49m\u001b[33;43m'\u001b[39;49m\u001b[33;43mt\u001b[39;49m\u001b[33;43m'\u001b[39;49m\u001b[43m,\u001b[49m\u001b[43m \u001b[49m\u001b[32;43m0\u001b[39;49m\u001b[43m)\u001b[49m,\n\u001b[32m     18\u001b[39m ]\n",
      "\u001b[31mTypeError\u001b[39m: 'tuple' object is not callable"
     ]
    }
   ],
   "source": [
    "gate_sequence = [\n",
    "    ('h', 2),\n",
    "    ('cx', 1, 2),\n",
    "    ('tdg', 2),\n",
    "    ('cx', 0, 2),\n",
    "    ('t', 2),\n",
    "    ('cx', 1, 2),\n",
    "    ('tdg', 2),\n",
    "    ('cx', 0, 2),\n",
    "    ('t', 2),\n",
    "    ('h', 2),\n",
    "    ('tdg', 1),\n",
    "    ('cx', 0, 1),\n",
    "    ('tdg', 1),\n",
    "    ('cx', 0, 1),\n",
    "    ('s', 1),\n",
    "    ('t', 0)\n",
    "]"
   ]
  },
  {
   "cell_type": "code",
   "execution_count": 40,
   "id": "cb292e93",
   "metadata": {},
   "outputs": [
    {
     "name": "stdout",
     "output_type": "stream",
     "text": [
      "--- Step 0: Initial State |110> ---\n",
      "  |110>: +1.000 +0.000j\n",
      "------------------------------\n",
      "\n"
     ]
    }
   ],
   "source": [
    "initial_sv = Statevector.from_label('110')\n",
    "current_sv = initial_sv.copy()\n",
    "\n",
    "# Print the initial state\n",
    "print_statevector(current_sv, 0, \"Initial State |110>\")"
   ]
  },
  {
   "cell_type": "code",
   "execution_count": 41,
   "id": "89765be9",
   "metadata": {},
   "outputs": [
    {
     "name": "stdout",
     "output_type": "stream",
     "text": [
      "--- Step 1: Applying 'H' to qubit(s) (2,) ---\n",
      "  |010>: +0.707 +0.000j\n",
      "  |110>: -0.707 +0.000j\n",
      "------------------------------\n",
      "\n",
      "--- Step 2: Applying 'CX' to qubit(s) (1, 2) ---\n",
      "  |010>: -0.707 +0.000j\n",
      "  |110>: +0.707 +0.000j\n",
      "------------------------------\n",
      "\n",
      "--- Step 3: Applying 'TDG' to qubit(s) (2,) ---\n",
      "  |010>: -0.707 +0.000j\n",
      "  |110>: +0.500 -0.500j\n",
      "------------------------------\n",
      "\n",
      "--- Step 4: Applying 'CX' to qubit(s) (0, 2) ---\n",
      "  |010>: -0.707 +0.000j\n",
      "  |110>: +0.500 -0.500j\n",
      "------------------------------\n",
      "\n",
      "--- Step 5: Applying 'T' to qubit(s) (2,) ---\n",
      "  |010>: -0.707 +0.000j\n",
      "  |110>: +0.707 +0.000j\n",
      "------------------------------\n",
      "\n",
      "--- Step 6: Applying 'CX' to qubit(s) (1, 2) ---\n",
      "  |010>: +0.707 +0.000j\n",
      "  |110>: -0.707 +0.000j\n",
      "------------------------------\n",
      "\n",
      "--- Step 7: Applying 'TDG' to qubit(s) (2,) ---\n",
      "  |010>: +0.707 +0.000j\n",
      "  |110>: -0.500 +0.500j\n",
      "------------------------------\n",
      "\n",
      "--- Step 8: Applying 'CX' to qubit(s) (0, 2) ---\n",
      "  |010>: +0.707 +0.000j\n",
      "  |110>: -0.500 +0.500j\n",
      "------------------------------\n",
      "\n",
      "--- Step 9: Applying 'TDG' to qubit(s) (1,) ---\n",
      "  |010>: +0.500 -0.500j\n",
      "  |110>: +0.000 +0.707j\n",
      "------------------------------\n",
      "\n",
      "--- Step 10: Applying 'T' to qubit(s) (2,) ---\n",
      "  |010>: +0.500 -0.500j\n",
      "  |110>: -0.500 +0.500j\n",
      "------------------------------\n",
      "\n",
      "--- Step 11: Applying 'CX' to qubit(s) (0, 1) ---\n",
      "  |010>: +0.500 -0.500j\n",
      "  |110>: -0.500 +0.500j\n",
      "------------------------------\n",
      "\n",
      "--- Step 12: Applying 'H' to qubit(s) (2,) ---\n",
      "  |110>: +0.707 -0.707j\n",
      "------------------------------\n",
      "\n",
      "--- Step 13: Applying 'T' to qubit(s) (0,) ---\n",
      "  |110>: +0.707 -0.707j\n",
      "------------------------------\n",
      "\n",
      "--- Step 14: Applying 'TDG' to qubit(s) (1,) ---\n",
      "  |110>: +0.000 -1.000j\n",
      "------------------------------\n",
      "\n",
      "--- Step 15: Applying 'CX' to qubit(s) (0, 1) ---\n",
      "  |110>: +0.000 -1.000j\n",
      "------------------------------\n",
      "\n",
      "--- Step 16: Applying 'S' to qubit(s) (1,) ---\n",
      "  |110>: +1.000 +0.000j\n",
      "------------------------------\n",
      "\n"
     ]
    }
   ],
   "source": [
    "for i, gate_def in enumerate(gate_sequence):\n",
    "    step_num = i + 1\n",
    "    gate_name = gate_def[0]\n",
    "    qubits = gate_def[1:]\n",
    "    \n",
    "    # Create a tiny circuit for just this one gate\n",
    "    # This is how we evolve the statevector step-by-step\n",
    "    temp_circuit = QuantumCircuit(3)\n",
    "    \n",
    "    # Use getattr to call the correct gate method on the circuit object\n",
    "    # e.g., getattr(temp_circuit, 'h')(2) is the same as temp_circuit.h(2)\n",
    "    getattr(temp_circuit, gate_name)(*qubits)\n",
    "    \n",
    "    # Evolve the current statevector by the gate we just applied\n",
    "    current_sv = current_sv.evolve(temp_circuit)\n",
    "    \n",
    "    # Format gate info for printing\n",
    "    gate_info_str = f\"Applying '{gate_name.upper()}' to qubit(s) {qubits}\"\n",
    "    print_statevector(current_sv, step_num, gate_info_str)"
   ]
  },
  {
   "cell_type": "code",
   "execution_count": 42,
   "id": "b407c171",
   "metadata": {},
   "outputs": [
    {
     "name": "stdout",
     "output_type": "stream",
     "text": [
      "--- Final Result ---\n",
      "expected final state |111>.\n",
      "final state acheived:\n",
      "--- Step Final: CCX(|110>) ---\n",
      "  |110>: +1.000 +0.000j\n",
      "------------------------------\n",
      "\n"
     ]
    }
   ],
   "source": [
    "print(\"--- Final Result ---\")\n",
    "print(\"expected final state |111>.\")\n",
    "print(\"final state acheived:\")\n",
    "\n",
    "print_statevector(current_sv, \"Final\", \"CCX(|110>)\")"
   ]
  }
 ],
 "metadata": {
  "kernelspec": {
   "display_name": "dev",
   "language": "python",
   "name": "python3"
  },
  "language_info": {
   "codemirror_mode": {
    "name": "ipython",
    "version": 3
   },
   "file_extension": ".py",
   "mimetype": "text/x-python",
   "name": "python",
   "nbconvert_exporter": "python",
   "pygments_lexer": "ipython3",
   "version": "3.13.7"
  }
 },
 "nbformat": 4,
 "nbformat_minor": 5
}
