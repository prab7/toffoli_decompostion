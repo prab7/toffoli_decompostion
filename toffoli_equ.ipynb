{
 "cells": [
  {
   "cell_type": "code",
   "execution_count": 1,
   "id": "516618b2",
   "metadata": {},
   "outputs": [],
   "source": [
    "import numpy as np\n",
    "from qiskit import QuantumCircuit\n",
    "from qiskit.quantum_info import Operator"
   ]
  },
  {
   "cell_type": "code",
   "execution_count": 2,
   "id": "f418faca",
   "metadata": {},
   "outputs": [],
   "source": [
    "# Create a quantum circuit with 3 qubits\n",
    "toffoli_ = QuantumCircuit(3)"
   ]
  },
  {
   "cell_type": "code",
   "execution_count": 3,
   "id": "11c547b7",
   "metadata": {},
   "outputs": [
    {
     "name": "stdout",
     "output_type": "stream",
     "text": [
      "Decomposed Toffoli Circuit:\n",
      "                                                                  ┌───┐\n",
      "q_0: ───────────────────■─────────────────────■────■───────────■──┤ T ├\n",
      "                        │            ┌─────┐  │  ┌─┴─┐┌─────┐┌─┴─┐├───┤\n",
      "q_1: ───────■───────────┼─────────■──┤ Tdg ├──┼──┤ X ├┤ Tdg ├┤ X ├┤ S ├\n",
      "     ┌───┐┌─┴─┐┌─────┐┌─┴─┐┌───┐┌─┴─┐├─────┤┌─┴─┐├───┤└┬───┬┘└───┘└───┘\n",
      "q_2: ┤ H ├┤ X ├┤ Tdg ├┤ X ├┤ T ├┤ X ├┤ Tdg ├┤ X ├┤ T ├─┤ H ├───────────\n",
      "     └───┘└───┘└─────┘└───┘└───┘└───┘└─────┘└───┘└───┘ └───┘           \n"
     ]
    }
   ],
   "source": [
    "# Step 1: Initial Hadamard on target\n",
    "toffoli_.h(2)\n",
    "\n",
    "toffoli_.cx(1, 2)\n",
    "toffoli_.tdg(2)\n",
    "toffoli_.cx(0, 2)\n",
    "toffoli_.t(2)\n",
    "toffoli_.cx(1, 2)\n",
    "toffoli_.tdg(2)\n",
    "toffoli_.cx(0, 2)\n",
    "toffoli_.tdg(1)\n",
    "toffoli_.t(2)\n",
    "toffoli_.h(2)\n",
    "toffoli_.cx(0, 1)\n",
    "\n",
    "toffoli_.tdg(1)\n",
    "toffoli_.cx(0, 1)\n",
    "toffoli_.s(1)\n",
    "toffoli_.t(0)\n",
    "\n",
    "print(\"Decomposed Toffoli Circuit:\")\n",
    "print(toffoli_)"
   ]
  },
  {
   "cell_type": "code",
   "execution_count": 6,
   "id": "c67bf9f1",
   "metadata": {},
   "outputs": [
    {
     "data": {
      "image/png": "[encoded data removed]",
      "text/plain": [
       "<Figure size 1123.61x284.278 with 1 Axes>"
      ]
     },
     "execution_count": 6,
     "metadata": {},
     "output_type": "execute_result"
    }
   ],
   "source": [
    "# To get a visual diagram of the circuit\n",
    "toffoli_.draw('mpl')"
   ]
  },
  {
   "cell_type": "code",
   "execution_count": 7,
   "id": "baddf56d",
   "metadata": {},
   "outputs": [
    {
     "name": "stdout",
     "output_type": "stream",
     "text": [
      "\n",
      " equivalent? True\n"
     ]
    }
   ],
   "source": [
    "# 1. Get the unitary operator for our decomposed circuit\n",
    "decomposed_op = Operator(toffoli_)\n",
    "\n",
    "# 2. Build the target circuit using Qiskit's native Toffoli gate\n",
    "toffoli_native = QuantumCircuit(3)\n",
    "toffoli_native.ccx(0, 1, 2)\n",
    "native_op = Operator(toffoli_native)\n",
    "\n",
    "# 3. Compare the two operators\n",
    "# The equiv() method returns True if they are mathematically equivalent\n",
    "are_equivalent = decomposed_op.equiv(native_op)\n",
    "\n",
    "print(f\"\\n equivalent? {are_equivalent}\")"
   ]
  }
 ],
 "metadata": {
  "kernelspec": {
   "display_name": "dev",
   "language": "python",
   "name": "python3"
  },
  "language_info": {
   "codemirror_mode": {
    "name": "ipython",
    "version": 3
   },
   "file_extension": ".py",
   "mimetype": "text/x-python",
   "name": "python",
   "nbconvert_exporter": "python",
   "pygments_lexer": "ipython3",
   "version": "3.13.7"
  }
 },
 "nbformat": 4,
 "nbformat_minor": 5
}
